{
 "cells": [
  {
   "cell_type": "markdown",
   "metadata": {},
   "source": [
    "# 1. Import libraries & load data"
   ]
  },
  {
   "cell_type": "code",
   "execution_count": 2,
   "metadata": {
    "collapsed": false
   },
   "outputs": [],
   "source": [
    "import numpy as np\n",
    "import pandas as pd\n",
    "import xgboost as xgb\n",
    "import evaluation\n",
    "import csv\n",
    "\n",
    "from sklearn.ensemble import RandomForestClassifier,GradientBoostingClassifier,AdaBoostClassifier\n",
    "from hep_ml.gradientboosting import UGradientBoostingClassifier,LogLossFunction\n",
    "from sklearn.metrics import roc_curve, auc\n",
    "from __future__ import division"
   ]
  },
  {
   "cell_type": "code",
   "execution_count": 3,
   "metadata": {
    "collapsed": true
   },
   "outputs": [],
   "source": [
    "train = pd.read_csv('training.csv', index_col = 'id')\n",
    "test  = pd.read_csv('test.csv', index_col = 'id')\n",
    "\n",
    "train = train[train['min_ANNmuon'] > 0.4]"
   ]
  },
  {
   "cell_type": "code",
   "execution_count": 4,
   "metadata": {
    "collapsed": true
   },
   "outputs": [],
   "source": [
    "check_agreement = pd.read_csv('check_agreement.csv', index_col='id')\n",
    "\n",
    "def check_ks(agreement_probs, check_agreement = check_agreement):\n",
    "\n",
    "    ks = evaluation.compute_ks(\n",
    "        agreement_probs[check_agreement['signal'].values == 0],\n",
    "        agreement_probs[check_agreement['signal'].values == 1],\n",
    "        check_agreement[check_agreement['signal'] == 0]['weight'].values,\n",
    "        check_agreement[check_agreement['signal'] == 1]['weight'].values)\n",
    "    return 'KS metric', ks, ks < 0.09\n",
    "\n",
    "check_correlation = pd.read_csv('check_correlation.csv', index_col='id')"
   ]
  },
  {
   "cell_type": "markdown",
   "metadata": {},
   "source": [
    "# 2. Training features"
   ]
  },
  {
   "cell_type": "markdown",
   "metadata": {},
   "source": [
    "### 2.1 Create new geometric features"
   ]
  },
  {
   "cell_type": "code",
   "execution_count": 5,
   "metadata": {
    "collapsed": true
   },
   "outputs": [],
   "source": [
    "list1 = ['FlightDistance', 'FlightDistanceError', 'LifeTime', 'IP', 'IPSig', 'VertexChi2', 'dira', 'pt',\n",
    "         'DOCAone', 'DOCAtwo', 'DOCAthree', 'IP_p0p2', 'IP_p1p2', 'isolationa', 'isolationb', 'isolationc',\n",
    "         'isolationd', 'isolatione', 'isolationf', 'iso', 'CDF1', 'CDF2', 'CDF3', 'ISO_SumBDT',\n",
    "         'p0_IsoBDT', 'p1_IsoBDT', 'p2_IsoBDT', 'p0_track_Chi2Dof', 'p1_track_Chi2Dof', 'p2_track_Chi2Dof', \n",
    "         'p0_IP', 'p0_IPSig', 'p1_IP', 'p1_IPSig', 'p2_IP', 'p2_IPSig',\n",
    "# Extra features:\n",
    "         'E',\n",
    "         'FlightDistanceSig',\n",
    "         'DOCA_sum',\n",
    "         'isolation_sum',\n",
    "         'IsoBDT_sum',\n",
    "         'track_Chi2Dof',\n",
    "         'IP_sum',\n",
    "         'IPSig_sum',\n",
    "         'CDF_sum']"
   ]
  },
  {
   "cell_type": "code",
   "execution_count": 6,
   "metadata": {
    "collapsed": true
   },
   "outputs": [],
   "source": [
    "# Physical constants:\n",
    "c = 299.792458     # Speed of light\n",
    "m_mu = 105.6583715 # Muon mass (in MeV)\n",
    "m_tau = 1776.82    # Tau mass (in MeV)"
   ]
  },
  {
   "cell_type": "code",
   "execution_count": 7,
   "metadata": {
    "collapsed": true
   },
   "outputs": [],
   "source": [
    "# some feature engineering work\n",
    "def add_extra_geometric_features(df):\n",
    "    df['E0'] = np.sqrt(np.square(m_mu) + np.square(df['p0_p']))\n",
    "    df['E1'] = np.sqrt(np.square(m_mu) + np.square(df['p1_p']))\n",
    "    df['E2'] = np.sqrt(np.square(m_mu) + np.square(df['p2_p']))\n",
    "    df['E'] = df['E0'] + df['E1'] + df['E2']\n",
    "    df['FlightDistanceSig'] = df['FlightDistance'] / df['FlightDistanceError']\n",
    "    df['DOCA_sum'] = df['DOCAone'] + df['DOCAtwo'] + df['DOCAthree']\n",
    "    df['isolation_sum'] = df['isolationa'] + df['isolationb'] + df['isolationc'] + df['isolationd'] + df['isolatione'] + df['isolationf']\n",
    "    df['IsoBDT_sum'] = df['p0_IsoBDT'] + df['p1_IsoBDT'] + df['p2_IsoBDT']\n",
    "    df['track_Chi2Dof'] = np.sqrt(np.square(df['p0_track_Chi2Dof'] - 1) + np.square(df['p1_track_Chi2Dof'] - 1) + np.square(df['p2_track_Chi2Dof'] - 1))\n",
    "    df['IP_sum'] = df['p0_IP'] + df['p1_IP'] + df['p2_IP']\n",
    "    df['IPSig_sum'] = df['p0_IPSig'] + df['p1_IPSig'] + df['p2_IPSig']\n",
    "    df['CDF_sum'] = df['CDF1'] + df['CDF2'] + df['CDF3']\n",
    "    \n",
    "    return df"
   ]
  },
  {
   "cell_type": "code",
   "execution_count": 8,
   "metadata": {
    "collapsed": false
   },
   "outputs": [],
   "source": [
    "# Add extra geometric features:\n",
    "train_with_extra_geometric_features = add_extra_geometric_features(train)\n",
    "test_with_extra_geometric_features = add_extra_geometric_features(test)\n",
    "\n",
    "check_agreement_with_extra_geometric_features = add_extra_geometric_features(check_agreement)\n",
    "check_correlation_with_extra_geometric_features = add_extra_geometric_features(check_correlation)"
   ]
  },
  {
   "cell_type": "markdown",
   "metadata": {},
   "source": [
    "### 2.2 Create new kinematic features"
   ]
  },
  {
   "cell_type": "code",
   "execution_count": 9,
   "metadata": {
    "collapsed": true
   },
   "outputs": [],
   "source": [
    "list2 = [\n",
    "# Original features:\n",
    "         'dira', 'pt', 'p0_pt', 'p0_p', 'p0_eta', 'p1_pt', 'p1_p', 'p1_eta', 'p2_pt', 'p2_p', 'p2_eta',\n",
    "# Extra features:\n",
    "         'E',\n",
    "         'pz',\n",
    "         'beta',\n",
    "         'gamma',\n",
    "         'beta_gamma',\n",
    "         'Delta_E',\n",
    "         'Delta_M',\n",
    "         'flag_M',\n",
    "         'E0',\n",
    "         'E1',\n",
    "         'E2',\n",
    "         'E0_ratio',\n",
    "         'E1_ratio',\n",
    "         'E2_ratio',\n",
    "         'p0_pt_ratio',\n",
    "         'p1_pt_ratio',\n",
    "         'p2_pt_ratio',\n",
    "         'eta_01',\n",
    "         'eta_02',\n",
    "         'eta_12',\n",
    "         't_coll'\n",
    "         ]"
   ]
  },
  {
   "cell_type": "code",
   "execution_count": 10,
   "metadata": {
    "collapsed": false
   },
   "outputs": [],
   "source": [
    "def add_extra_kinematic_features(df):\n",
    "    df['E0'] = np.sqrt(np.square(m_mu) + np.square(df['p0_p']))\n",
    "    df['E1'] = np.sqrt(np.square(m_mu) + np.square(df['p1_p']))\n",
    "    df['E2'] = np.sqrt(np.square(m_mu) + np.square(df['p2_p']))\n",
    "    df['E'] = df['E0'] + df['E1'] + df['E2']\n",
    "    df['pz'] = df['p0_pt'] * np.sinh(df['p0_eta']) + df['p1_pt'] * np.sinh(df['p1_eta']) + df['p2_pt'] * np.sinh(df['p2_eta'])\n",
    "    df['gamma'] = df['E'] / np.sqrt(np.square(df['E']) - np.square(np.sqrt(np.square(df['pt']) + np.square(df['pz']))))\n",
    "    df['beta'] = np.sqrt(np.square(df['gamma']) - 1.) / df['gamma']\n",
    "    df['beta_gamma'] = df['FlightDistance'] /(df['LifeTime'] * c)\n",
    "    df['Delta_E'] = np.sqrt(np.square(np.sqrt(np.square(df['pt']) + np.square(df['pz'])) / df['beta_gamma']) + np.square(np.sqrt(np.square(df['pt']) + np.square(df['pz'])))) - df['E']\n",
    "    df['Delta_M'] = np.square((np.sqrt(np.square(df['pt']) + np.square(df['pz']))) / df['beta_gamma']) - np.sqrt(np.square(df['E']) - np.square(np.sqrt(np.square(df['pt']) + np.square(df['pz']))))\n",
    "    df['E0_ratio'] = df['E0'] / df['E']\n",
    "    df['E1_ratio'] = df['E1'] / df['E']\n",
    "    df['E2_ratio'] = df['E2'] / df['E']\n",
    "    df['p0_pt_ratio'] = df['p0_pt'] / df['pt']\n",
    "    df['p1_pt_ratio'] = df['p1_pt'] / df['pt']\n",
    "    df['p2_pt_ratio'] = df['p2_pt'] / df['pt']\n",
    "    df['eta_01'] = df['p0_eta'] - df['p1_eta']\n",
    "    df['eta_02'] = df['p0_eta'] - df['p2_eta']\n",
    "    df['eta_12'] = df['p1_eta'] - df['p2_eta']\n",
    "    df['t_coll'] = (df['p0_pt'] + df['p1_pt'] + df['p2_pt']) / df['pt']\n",
    "    df['flag_M'] = (np.fabs(np.sqrt(np.square(df['pt']) + np.square(df['pz'])) / df['beta_gamma'] - m_tau - 1.44)) < 17\n",
    "    \n",
    "    return df                     "
   ]
  },
  {
   "cell_type": "code",
   "execution_count": 11,
   "metadata": {
    "collapsed": false
   },
   "outputs": [],
   "source": [
    "# Add extra kinematic features:\n",
    "train_with_extra_kinematic_features = add_extra_kinematic_features(train_with_extra_geometric_features)\n",
    "test_with_extra_kinematic_features = add_extra_kinematic_features(test)\n",
    "\n",
    "check_agreement_with_extra_kinematic_features = add_extra_kinematic_features(check_agreement_with_extra_geometric_features)\n",
    "check_correlation_with_extra_kinematic_features = add_extra_kinematic_features(check_correlation_with_extra_geometric_features)"
   ]
  },
  {
   "cell_type": "code",
   "execution_count": 12,
   "metadata": {
    "collapsed": false
   },
   "outputs": [],
   "source": [
    "train_with_extra_kinematic_features = train_with_extra_kinematic_features[train_with_extra_kinematic_features.flag_M != False]"
   ]
  },
  {
   "cell_type": "markdown",
   "metadata": {},
   "source": [
    "# 3. Train classifiers"
   ]
  },
  {
   "cell_type": "code",
   "execution_count": 13,
   "metadata": {
    "collapsed": false
   },
   "outputs": [],
   "source": [
    "params = {\"objective\": \"binary:logistic\",\n",
    "          \"eta\": 0.08,\n",
    "          \"max_depth\": 5,\n",
    "          \"min_child_weight\": 3,\n",
    "          \"silent\": 1,\n",
    "          \"subsample\": 0.8,\n",
    "          \"colsample_bytree\": 0.7,\n",
    "          \"seed\": 1}\n",
    "num_trees=200\n",
    "gbm = xgb.train(params, xgb.DMatrix(train_with_extra_geometric_features[list1], train[\"signal\"]), num_trees)"
   ]
  },
  {
   "cell_type": "code",
   "execution_count": 14,
   "metadata": {
    "collapsed": false
   },
   "outputs": [
    {
     "data": {
      "text/plain": [
       "UGradientBoostingClassifier(learning_rate=0.25,\n",
       "              loss=LogLossFunction(regularization=5.0), max_depth=3,\n",
       "              max_features=None, max_leaf_nodes=None, min_samples_leaf=1,\n",
       "              min_samples_split=2, n_estimators=100,\n",
       "              random_state=<mtrand.RandomState object at 0x1137a2050>,\n",
       "              splitter='best', subsample=0.8, train_features=None,\n",
       "              update_tree=True)"
      ]
     },
     "execution_count": 14,
     "metadata": {},
     "output_type": "execute_result"
    }
   ],
   "source": [
    "loss_funct = LogLossFunction()\n",
    "ub = UGradientBoostingClassifier(loss=loss_funct,n_estimators=100, random_state=1,learning_rate=0.25,subsample=0.8)\n",
    "ub.fit(train_with_extra_kinematic_features[list2],train_with_extra_kinematic_features[\"signal\"])"
   ]
  },
  {
   "cell_type": "markdown",
   "metadata": {},
   "source": [
    "# 4. Submit tests & record a submission file"
   ]
  },
  {
   "cell_type": "code",
   "execution_count": 15,
   "metadata": {
    "collapsed": false
   },
   "outputs": [
    {
     "data": {
      "text/plain": [
       "('KS metric', 0.077056561802458956, True)"
      ]
     },
     "execution_count": 15,
     "metadata": {},
     "output_type": "execute_result"
    }
   ],
   "source": [
    "agreement_probs = 0.18 * ub.predict_proba(check_agreement_with_extra_kinematic_features[list2])[:, 1] + 0.82 * gbm.predict(xgb.DMatrix(check_agreement_with_extra_geometric_features[list1]))\n",
    "\n",
    "check_ks(agreement_probs)"
   ]
  },
  {
   "cell_type": "code",
   "execution_count": 16,
   "metadata": {
    "collapsed": false
   },
   "outputs": [
    {
     "name": "stdout",
     "output_type": "stream",
     "text": [
      "CvM metric 0.00166004614494 True\n"
     ]
    }
   ],
   "source": [
    "correlation_probs = 0.18 * ub.predict_proba(check_correlation_with_extra_kinematic_features[list2])[:, 1] + 0.82 * gbm.predict(xgb.DMatrix(check_correlation_with_extra_geometric_features[list1]))\n",
    "\n",
    "cvm = evaluation.compute_cvm(correlation_probs, check_correlation['mass'])\n",
    "\n",
    "print 'CvM metric', cvm, cvm < 0.002"
   ]
  },
  {
   "cell_type": "code",
   "execution_count": 17,
   "metadata": {
    "collapsed": false
   },
   "outputs": [
    {
     "name": "stdout",
     "output_type": "stream",
     "text": [
      "('AUC metric', 1.0)\n"
     ]
    }
   ],
   "source": [
    "train_eval = train_with_extra_kinematic_features\n",
    "\n",
    "train_probs = 0.18 * ub.predict_proba(train_eval[list2])[:, 1] + 0.82 * gbm.predict(xgb.DMatrix(train_eval[list1]))\n",
    "\n",
    "AUC = evaluation.roc_auc_truncated(train_eval['signal'], train_probs)\n",
    "print (\"AUC metric\",AUC)"
   ]
  },
  {
   "cell_type": "code",
   "execution_count": 18,
   "metadata": {
    "collapsed": false
   },
   "outputs": [],
   "source": [
    "test_probs = 0.18 * ub.predict_proba(test_with_extra_kinematic_features[list2])[:, 1] + 0.82 * gbm.predict(xgb.DMatrix(test_with_extra_geometric_features[list1]))\n",
    "\n",
    "result = pd.DataFrame({'id': test.index, \"prediction\": test_probs})"
   ]
  },
  {
   "cell_type": "code",
   "execution_count": 19,
   "metadata": {
    "collapsed": true
   },
   "outputs": [],
   "source": [
    "result.to_csv('file_07_03_17_6.csv', index=False, sep=',')"
   ]
  },
  {
   "cell_type": "markdown",
   "metadata": {},
   "source": [
    "#### The next part is just another algorithm (two xgboosts) which shown worse results, so there is no need to read it."
   ]
  },
  {
   "cell_type": "code",
   "execution_count": 72,
   "metadata": {
    "collapsed": true
   },
   "outputs": [],
   "source": [
    "params = {'objective': 'binary:logistic',\n",
    "          'eta': 0.05,\n",
    "          'max_depth': 4,\n",
    "          'scale_pos_weight': 5.,\n",
    "          'silent': 1,\n",
    "          'seed': 1}\n",
    "\n",
    "num_trees1 = 200\n",
    "num_trees2 = 100\n",
    "\n",
    "# Weight for the first classifier:\n",
    "w1 = 0.78"
   ]
  },
  {
   "cell_type": "code",
   "execution_count": 74,
   "metadata": {
    "collapsed": false
   },
   "outputs": [],
   "source": [
    "# Train the first (geometric) XGBoost classifier:\n",
    "xgb1 = xgb.train(params, xgb.DMatrix(train_with_extra_geometric_features[list1], train['signal']), num_trees1)"
   ]
  },
  {
   "cell_type": "code",
   "execution_count": 75,
   "metadata": {
    "collapsed": true
   },
   "outputs": [],
   "source": [
    "# Train the second (kinematic) XGBoost classifier:\n",
    "xgb2 = xgb.train(params, xgb.DMatrix(train_with_extra_kinematic_features[list2], train_with_extra_kinematic_features['signal']), num_trees2)"
   ]
  },
  {
   "cell_type": "code",
   "execution_count": 87,
   "metadata": {
    "collapsed": false
   },
   "outputs": [
    {
     "name": "stdout",
     "output_type": "stream",
     "text": [
      "KS metric 0.0761471569486 True\n"
     ]
    }
   ],
   "source": [
    "agreement_probs = 0.2 * xgb2.predict(xgb.DMatrix(check_agreement_with_extra_kinematic_features[list2])) + 0.8 * xgb1.predict(xgb.DMatrix(check_agreement_with_extra_geometric_features[list1]))\n",
    "\n",
    "ks = evaluation.compute_ks(\n",
    "    agreement_probs[check_agreement_with_extra_kinematic_features['signal'].values == 0],\n",
    "    agreement_probs[check_agreement_with_extra_kinematic_features['signal'].values == 1],\n",
    "    check_agreement_with_extra_kinematic_features[check_agreement_with_extra_kinematic_features['signal'] == 0]['weight'].values,\n",
    "    check_agreement_with_extra_kinematic_features[check_agreement_with_extra_kinematic_features['signal'] == 1]['weight'].values)\n",
    "\n",
    "print 'KS metric', ks, ks < 0.09"
   ]
  },
  {
   "cell_type": "code",
   "execution_count": 88,
   "metadata": {
    "collapsed": false
   },
   "outputs": [
    {
     "name": "stdout",
     "output_type": "stream",
     "text": [
      "CvM metric 0.000816380223291 True\n"
     ]
    }
   ],
   "source": [
    "correlation_probs = 0.2 * xgb2.predict(xgb.DMatrix(check_correlation_with_extra_kinematic_features[list2])) + 0.8 * xgb1.predict(xgb.DMatrix(check_correlation_with_extra_geometric_features[list1]))\n",
    "\n",
    "cvm = evaluation.compute_cvm(correlation_probs, check_correlation['mass'])\n",
    "\n",
    "print 'CvM metric', cvm, cvm < 0.002"
   ]
  },
  {
   "cell_type": "code",
   "execution_count": 89,
   "metadata": {
    "collapsed": false
   },
   "outputs": [
    {
     "name": "stdout",
     "output_type": "stream",
     "text": [
      "calculating train probs having min_annmuon>0.4\n"
     ]
    }
   ],
   "source": [
    "train_eval = train_with_extra_kinematic_features[train_with_extra_kinematic_features['min_ANNmuon'] > 0.4]\n",
    "\n",
    "print(\"calculating train probs having min_annmuon>0.4\")\n",
    "\n",
    "train_probs = 0.2 * xgb2.predict(xgb.DMatrix(train_eval[list2])) + 0.8 * xgb1.predict(xgb.DMatrix(train_eval[list1]))"
   ]
  },
  {
   "cell_type": "code",
   "execution_count": 90,
   "metadata": {
    "collapsed": false
   },
   "outputs": [
    {
     "name": "stdout",
     "output_type": "stream",
     "text": [
      "('AUC metric', 0.99973080560499361)\n"
     ]
    }
   ],
   "source": [
    "AUC = evaluation.roc_auc_truncated(train_eval['signal'], train_probs)\n",
    "print (\"AUC metric\",AUC)"
   ]
  },
  {
   "cell_type": "code",
   "execution_count": 91,
   "metadata": {
    "collapsed": true
   },
   "outputs": [],
   "source": [
    "test_probs = 0.2 * xgb2.predict(xgb.DMatrix(test_with_extra_kinematic_features[list2])) + 0.8 * xgb1.predict(xgb.DMatrix(test_with_extra_geometric_features[list1]))\n",
    "\n",
    "result = pd.DataFrame({'id': test.index, \"prediction\": test_probs})"
   ]
  },
  {
   "cell_type": "code",
   "execution_count": 92,
   "metadata": {
    "collapsed": true
   },
   "outputs": [],
   "source": [
    "result.to_csv('file_07_03_17_8.csv', index=False, sep=',')"
   ]
  }
 ],
 "metadata": {
  "anaconda-cloud": {},
  "kernelspec": {
   "display_name": "Python [conda root]",
   "language": "python",
   "name": "conda-root-py"
  },
  "language_info": {
   "codemirror_mode": {
    "name": "ipython",
    "version": 2
   },
   "file_extension": ".py",
   "mimetype": "text/x-python",
   "name": "python",
   "nbconvert_exporter": "python",
   "pygments_lexer": "ipython2",
   "version": "2.7.12"
  }
 },
 "nbformat": 4,
 "nbformat_minor": 1
}
